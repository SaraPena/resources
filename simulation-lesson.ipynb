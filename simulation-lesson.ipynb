{
 "cells": [
  {
   "cell_type": "markdown",
   "metadata": {},
   "source": [
    "### Imagine what the data of word problems looks like. If you can do that you can write the python code to get you there.\n",
    "\n",
    "### You will get more practice writing python code\n",
    "\n",
    "### Can verify theoretical model with experimental stats"
   ]
  },
  {
   "cell_type": "code",
   "execution_count": 1,
   "metadata": {},
   "outputs": [],
   "source": [
    "import numpy as np\n",
    "import random\n",
    "import pandas as pd"
   ]
  },
  {
   "cell_type": "code",
   "execution_count": 2,
   "metadata": {},
   "outputs": [
    {
     "ename": "SyntaxError",
     "evalue": "invalid syntax (<ipython-input-2-2e7df35eb06b>, line 2)",
     "output_type": "error",
     "traceback": [
      "\u001b[0;36m  File \u001b[0;32m\"<ipython-input-2-2e7df35eb06b>\"\u001b[0;36m, line \u001b[0;32m2\u001b[0m\n\u001b[0;31m    np.random.()\u001b[0m\n\u001b[0m              ^\u001b[0m\n\u001b[0;31mSyntaxError\u001b[0m\u001b[0;31m:\u001b[0m invalid syntax\n"
     ]
    }
   ],
   "source": [
    "\n",
    "\n",
    "#many ways to generate random functions. np.random.[tab]\n",
    "np.random.()"
   ]
  },
  {
   "cell_type": "code",
   "execution_count": 3,
   "metadata": {},
   "outputs": [
    {
     "data": {
      "text/plain": [
       "'b'"
      ]
     },
     "execution_count": 3,
     "metadata": {},
     "output_type": "execute_result"
    }
   ],
   "source": [
    "random.choice(['a','b','c'])\n"
   ]
  },
  {
   "cell_type": "code",
   "execution_count": 4,
   "metadata": {},
   "outputs": [
    {
     "data": {
      "text/plain": [
       "array(['c', 'c', 'c', 'a', 'b', 'a', 'a', 'c', 'b', 'c', 'a', 'a', 'a',\n",
       "       'a', 'b', 'c', 'a', 'a', 'a', 'b', 'c', 'b', 'a', 'b', 'a', 'c',\n",
       "       'c', 'c', 'b', 'a', 'c', 'c', 'a', 'c', 'b', 'c', 'a', 'c', 'c',\n",
       "       'c', 'c', 'b', 'c', 'c', 'c', 'a', 'c', 'a', 'c', 'b', 'c', 'c',\n",
       "       'a', 'b', 'b', 'b', 'b', 'c', 'b', 'c', 'a', 'c', 'c', 'a', 'c',\n",
       "       'a', 'b', 'b', 'a', 'c', 'a', 'c', 'c', 'a', 'c', 'c', 'b', 'a',\n",
       "       'a', 'a', 'b', 'b', 'a', 'a', 'a', 'b', 'c', 'a', 'b', 'a', 'c',\n",
       "       'a', 'a', 'c', 'c', 'a', 'b', 'a', 'b', 'b'], dtype='<U1')"
      ]
     },
     "execution_count": 4,
     "metadata": {},
     "output_type": "execute_result"
    }
   ],
   "source": [
    "np.random.choice(['a', 'b', 'c'], 100)\n",
    "#np.random.choice(['a', 'b', 'c'], (3, 10))"
   ]
  },
  {
   "cell_type": "code",
   "execution_count": 5,
   "metadata": {},
   "outputs": [
    {
     "data": {
      "text/plain": [
       "array([[0.98130219, 0.01224097, 0.21237993, 0.47599263],\n",
       "       [0.11872774, 0.82722232, 0.36317129, 0.38348827],\n",
       "       [0.40501704, 0.0911517 , 0.71328431, 0.88211753],\n",
       "       [0.41312057, 0.0475563 , 0.59347055, 0.43453951]])"
      ]
     },
     "execution_count": 5,
     "metadata": {},
     "output_type": "execute_result"
    }
   ],
   "source": [
    "np.random.uniform() # distribution of values is uniform\n",
    "np.random.uniform(10, 20, (4, 4))\n",
    "np.random.random((4,4)) #distribution of values is uniform"
   ]
  },
  {
   "cell_type": "code",
   "execution_count": 6,
   "metadata": {},
   "outputs": [
    {
     "data": {
      "text/plain": [
       "array([[0.685924  , 0.57904849, 0.80664342],\n",
       "       [0.74394509, 0.44522127, 0.14577663],\n",
       "       [0.09990769, 0.63848457, 0.24855068],\n",
       "       [0.98763143, 0.70881839, 0.3412683 ],\n",
       "       [0.24239665, 0.50157354, 0.88712448],\n",
       "       [0.36518011, 0.90206942, 0.93775447],\n",
       "       [0.3087957 , 0.00871522, 0.81758226],\n",
       "       [0.45472469, 0.46124487, 0.93794552],\n",
       "       [0.61728433, 0.54299028, 0.50596537],\n",
       "       [0.09975253, 0.95871882, 0.47425156]])"
      ]
     },
     "execution_count": 6,
     "metadata": {},
     "output_type": "execute_result"
    }
   ],
   "source": [
    "np.random.randn() #distribution of values is normal\n",
    "np.random.rand(10,3)"
   ]
  },
  {
   "cell_type": "code",
   "execution_count": 7,
   "metadata": {
    "scrolled": true
   },
   "outputs": [
    {
     "data": {
      "text/plain": [
       "array([[10.54507717, 26.47842495, 15.2128881 ],\n",
       "       [30.67922722,  4.29098104, 17.9281967 ],\n",
       "       [14.55418495, 23.7660199 ,  4.64351772],\n",
       "       [17.97566143, 14.06230233, 16.83811814],\n",
       "       [24.3832244 , 24.51706084, 20.54547959],\n",
       "       [16.74779224, 15.33669857, 30.43763422],\n",
       "       [26.86786528, 19.09604326, 17.10188346],\n",
       "       [20.1633964 , 20.22525963, 19.5351259 ],\n",
       "       [21.87824885, 34.11177147, 20.10101795],\n",
       "       [17.84396122, 22.21103506, 23.50951344]])"
      ]
     },
     "execution_count": 7,
     "metadata": {},
     "output_type": "execute_result"
    }
   ],
   "source": [
    "mean = 20\n",
    "std = 6\n",
    "\n",
    "np.random.normal(mean, std, (10,3))"
   ]
  },
  {
   "cell_type": "markdown",
   "metadata": {},
   "source": [
    "### How we would take these random distribution functions and apply them to word problems."
   ]
  },
  {
   "cell_type": "markdown",
   "metadata": {},
   "source": [
    "#### Carnival Dice Rolls"
   ]
  },
  {
   "cell_type": "code",
   "execution_count": 8,
   "metadata": {},
   "outputs": [
    {
     "data": {
      "text/plain": [
       "array([[5, 6, 2],\n",
       "       [6, 6, 6],\n",
       "       [6, 5, 5],\n",
       "       ...,\n",
       "       [6, 2, 3],\n",
       "       [6, 2, 5],\n",
       "       [5, 5, 4]])"
      ]
     },
     "execution_count": 8,
     "metadata": {},
     "output_type": "execute_result"
    }
   ],
   "source": [
    "ntrials = 50_000\n",
    "n_dice_rolled = 3\n",
    "\n",
    "rolls = np.random.choice([1, 2, 3, 4, 5, 6], (ntrials, n_dice_rolled))\n",
    "rolls\n"
   ]
  },
  {
   "cell_type": "code",
   "execution_count": 9,
   "metadata": {},
   "outputs": [
    {
     "data": {
      "text/plain": [
       "523321"
      ]
     },
     "execution_count": 9,
     "metadata": {},
     "output_type": "execute_result"
    }
   ],
   "source": [
    "rolls.sum()"
   ]
  },
  {
   "cell_type": "code",
   "execution_count": 10,
   "metadata": {},
   "outputs": [
    {
     "data": {
      "text/plain": [
       "array([13, 18, 16, ..., 11, 13, 14])"
      ]
     },
     "execution_count": 10,
     "metadata": {},
     "output_type": "execute_result"
    }
   ],
   "source": [
    "#axis = 1 follows along the rows\n",
    "rolls.sum(axis = 1)\n",
    "\n",
    "#axis = 0 follows along the columns\n",
    "#rolls.sum(axis = 0)\n",
    "\n",
    "#sum() returns the sum of all the values in the array.\n",
    "#rolls. sum()"
   ]
  },
  {
   "cell_type": "code",
   "execution_count": 11,
   "metadata": {},
   "outputs": [
    {
     "data": {
      "text/plain": [
       "array([ True,  True,  True, ..., False,  True,  True])"
      ]
     },
     "execution_count": 11,
     "metadata": {},
     "output_type": "execute_result"
    }
   ],
   "source": [
    "rolls.sum(axis = 1) >= 12"
   ]
  },
  {
   "cell_type": "code",
   "execution_count": 12,
   "metadata": {},
   "outputs": [
    {
     "data": {
      "text/plain": [
       "0.36856"
      ]
     },
     "execution_count": 12,
     "metadata": {},
     "output_type": "execute_result"
    }
   ],
   "source": [
    "(rolls.sum(axis = 1) >= 12).astype(int).mean()"
   ]
  },
  {
   "cell_type": "code",
   "execution_count": 13,
   "metadata": {},
   "outputs": [
    {
     "data": {
      "text/plain": [
       "0.36856"
      ]
     },
     "execution_count": 13,
     "metadata": {},
     "output_type": "execute_result"
    }
   ],
   "source": [
    "p_win = (rolls.sum(axis = 1) >= 12).mean()\n",
    "p_win"
   ]
  },
  {
   "cell_type": "code",
   "execution_count": 14,
   "metadata": {},
   "outputs": [
    {
     "data": {
      "text/plain": [
       "(array([  932.,  1396.,  5858.,  4761., 12443.,  6182., 10466.,  3456.,\n",
       "         3637.,   869.]),\n",
       " array([ 3. ,  4.5,  6. ,  7.5,  9. , 10.5, 12. , 13.5, 15. , 16.5, 18. ]),\n",
       " <a list of 10 Patch objects>)"
      ]
     },
     "execution_count": 14,
     "metadata": {},
     "output_type": "execute_result"
    },
    {
     "data": {
      "image/png": "[encoded data removed]",
      "text/plain": [
       "<Figure size 432x288 with 1 Axes>"
      ]
     },
     "metadata": {
      "needs_background": "light"
     },
     "output_type": "display_data"
    }
   ],
   "source": [
    "%matplotlib inline\n",
    "import matplotlib.pyplot as plt\n",
    "\n",
    "plt.hist(rolls.sum(axis = 1))\n",
    "# plt.figure(figsize = (8, 5))\n",
    "# plt.plot([1, 2, 3], [4, 5, 16])\n",
    "# plt.show()"
   ]
  },
  {
   "cell_type": "code",
   "execution_count": 15,
   "metadata": {},
   "outputs": [
    {
     "data": {
      "text/plain": [
       "0.5283999999999995"
      ]
     },
     "execution_count": 15,
     "metadata": {},
     "output_type": "execute_result"
    }
   ],
   "source": [
    "amount_we_win = 15\n",
    "cost_of_playing = 5\n",
    "expected_winnings = p_win * 15\n",
    "\n",
    "profit = expected_winnings - cost_of_playing\n",
    "profit"
   ]
  },
  {
   "cell_type": "markdown",
   "metadata": {},
   "source": [
    "### No Rest or Relaxation"
   ]
  },
  {
   "cell_type": "code",
   "execution_count": null,
   "metadata": {},
   "outputs": [],
   "source": [
    " np.random.random((4, 2)) #4 weekends, 2 days in each weekend, each row represents a weekend, each column represents a day of the week."
   ]
  },
  {
   "cell_type": "code",
   "execution_count": null,
   "metadata": {},
   "outputs": [],
   "source": [
    "p_nap = .3\n",
    "\n",
    "naps = np.random.random((10_000_000,2)) <= p_nap\n",
    "naps"
   ]
  },
  {
   "cell_type": "code",
   "execution_count": null,
   "metadata": {},
   "outputs": [],
   "source": [
    "naps.sum(axis = 1)"
   ]
  },
  {
   "cell_type": "code",
   "execution_count": null,
   "metadata": {},
   "outputs": [],
   "source": [
    "naps.sum(axis = 1) >= 1"
   ]
  },
  {
   "cell_type": "code",
   "execution_count": null,
   "metadata": {},
   "outputs": [],
   "source": [
    "(naps.sum(axis=1) >= 1).mean()"
   ]
  },
  {
   "cell_type": "code",
   "execution_count": null,
   "metadata": {},
   "outputs": [],
   "source": [
    "(naps.sum(axis = 1) == 0).mean()"
   ]
  },
  {
   "cell_type": "markdown",
   "metadata": {},
   "source": [
    "### One with Dataframes"
   ]
  },
  {
   "cell_type": "code",
   "execution_count": null,
   "metadata": {},
   "outputs": [],
   "source": [
    "ntrials = 12_000\n",
    "n_dice_roll = 3\n",
    "\n",
    "rolls = np.random.choice(list(range(1,7)), (ntrials, n_dice_roll))\n",
    "rolls"
   ]
  },
  {
   "cell_type": "code",
   "execution_count": null,
   "metadata": {},
   "outputs": [],
   "source": [
    "df = pd.DataFrame(rolls)\n",
    "df"
   ]
  },
  {
   "cell_type": "code",
   "execution_count": null,
   "metadata": {
    "scrolled": true
   },
   "outputs": [],
   "source": [
    "s = pd.Series([3,2,2])\n",
    "s"
   ]
  },
  {
   "cell_type": "code",
   "execution_count": null,
   "metadata": {},
   "outputs": [],
   "source": [
    "3 in s.values"
   ]
  },
  {
   "cell_type": "code",
   "execution_count": null,
   "metadata": {},
   "outputs": [],
   "source": [
    "df.apply(lambda row: 3 in row.values, axis = 1)"
   ]
  },
  {
   "cell_type": "code",
   "execution_count": null,
   "metadata": {},
   "outputs": [],
   "source": [
    "df.apply(lambda row: 3 in row.values, axis = 1).mean()"
   ]
  },
  {
   "cell_type": "code",
   "execution_count": null,
   "metadata": {},
   "outputs": [],
   "source": [
    "np.random.seed(123)"
   ]
  },
  {
   "cell_type": "code",
   "execution_count": null,
   "metadata": {},
   "outputs": [],
   "source": [
    "np.random.choice(['a', 'b', 'c'], 3)"
   ]
  },
  {
   "cell_type": "code",
   "execution_count": null,
   "metadata": {},
   "outputs": [],
   "source": []
  }
 ],
 "metadata": {
  "kernelspec": {
   "display_name": "Python 3",
   "language": "python",
   "name": "python3"
  },
  "language_info": {
   "codemirror_mode": {
    "name": "ipython",
    "version": 3
   },
   "file_extension": ".py",
   "mimetype": "text/x-python",
   "name": "python",
   "nbconvert_exporter": "python",
   "pygments_lexer": "ipython3",
   "version": "3.7.3"
  }
 },
 "nbformat": 4,
 "nbformat_minor": 2
}
