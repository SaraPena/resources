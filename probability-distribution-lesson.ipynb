{
 "cells": [
  {
   "cell_type": "code",
   "execution_count": 7,
   "metadata": {},
   "outputs": [],
   "source": [
    "from scipy import stats"
   ]
  },
  {
   "cell_type": "code",
   "execution_count": 8,
   "metadata": {},
   "outputs": [
    {
     "data": {
      "text/plain": [
       "<module 'scipy.stats' from '/usr/local/anaconda3/lib/python3.7/site-packages/scipy/stats/__init__.py'>"
      ]
     },
     "execution_count": 8,
     "metadata": {},
     "output_type": "execute_result"
    }
   ],
   "source": [
    "stats"
   ]
  },
  {
   "cell_type": "code",
   "execution_count": 9,
   "metadata": {},
   "outputs": [],
   "source": [
    "die_distribution = stats.randint(1,7)"
   ]
  },
  {
   "cell_type": "code",
   "execution_count": 10,
   "metadata": {},
   "outputs": [
    {
     "data": {
      "text/plain": [
       "array([[4, 5, 2, 1, 4, 1, 3, 2, 6, 3],\n",
       "       [5, 2, 4, 6, 4, 2, 2, 1, 5, 2],\n",
       "       [2, 1, 2, 6, 5, 1, 6, 5, 5, 6],\n",
       "       [3, 2, 5, 5, 6, 5, 1, 5, 3, 4],\n",
       "       [4, 1, 1, 6, 1, 6, 1, 1, 5, 4],\n",
       "       [4, 2, 1, 3, 4, 2, 5, 3, 6, 4],\n",
       "       [4, 2, 2, 6, 3, 5, 2, 2, 4, 5],\n",
       "       [4, 2, 2, 2, 2, 1, 2, 5, 2, 6],\n",
       "       [3, 2, 2, 3, 4, 5, 6, 6, 5, 4],\n",
       "       [4, 6, 4, 1, 2, 6, 1, 6, 3, 6]])"
      ]
     },
     "execution_count": 10,
     "metadata": {},
     "output_type": "execute_result"
    }
   ],
   "source": [
    "die_distribution.rvs((10,10))"
   ]
  },
  {
   "cell_type": "code",
   "execution_count": 11,
   "metadata": {},
   "outputs": [
    {
     "data": {
      "text/plain": [
       "0.16666666666666666"
      ]
     },
     "execution_count": 11,
     "metadata": {},
     "output_type": "execute_result"
    }
   ],
   "source": [
    "die_distribution.pmf(4) # What's the liklihood we roll a 4?"
   ]
  },
  {
   "cell_type": "code",
   "execution_count": 12,
   "metadata": {},
   "outputs": [
    {
     "data": {
      "text/plain": [
       "0.5"
      ]
     },
     "execution_count": 12,
     "metadata": {},
     "output_type": "execute_result"
    }
   ],
   "source": [
    "die_distribution.cdf(3) # What's the likelihood we rool a 3 or less?"
   ]
  },
  {
   "cell_type": "code",
   "execution_count": 13,
   "metadata": {},
   "outputs": [
    {
     "data": {
      "text/plain": [
       "2.0"
      ]
     },
     "execution_count": 13,
     "metadata": {},
     "output_type": "execute_result"
    }
   ],
   "source": [
    "# There's a 1 in 3 chance we roll less than or equal to what?\n",
    "die_distribution.ppf(1/3)\n",
    "\n"
   ]
  },
  {
   "cell_type": "code",
   "execution_count": 14,
   "metadata": {},
   "outputs": [
    {
     "data": {
      "text/plain": [
       "0.33333333333333337"
      ]
     },
     "execution_count": 14,
     "metadata": {},
     "output_type": "execute_result"
    }
   ],
   "source": [
    "die_distribution.sf(4)"
   ]
  },
  {
   "cell_type": "code",
   "execution_count": 15,
   "metadata": {},
   "outputs": [
    {
     "data": {
      "text/plain": [
       "4.0"
      ]
     },
     "execution_count": 15,
     "metadata": {},
     "output_type": "execute_result"
    }
   ],
   "source": [
    "die_distribution.isf(1/3) # There is a 1 in 3 chance our die roll is greater than what number?"
   ]
  },
  {
   "cell_type": "markdown",
   "metadata": {},
   "source": [
    "Distributions:\n",
    "Binomial: n - trials, p - P(success), each of the n trials are independent (might not be real world, but a good place to start in simulation)\n",
    "    # successes\n",
    "    \n",
    "Normal: mean and std\n",
    "\n",
    "Poisson: rate/time\n",
    "    # events"
   ]
  },
  {
   "cell_type": "code",
   "execution_count": 16,
   "metadata": {},
   "outputs": [
    {
     "data": {
      "text/plain": [
       "0.21875000000000014"
      ]
     },
     "execution_count": 16,
     "metadata": {},
     "output_type": "execute_result"
    }
   ],
   "source": [
    "stats.binom(8,.5).pmf(3)"
   ]
  },
  {
   "cell_type": "code",
   "execution_count": 19,
   "metadata": {},
   "outputs": [
    {
     "data": {
      "text/plain": [
       "array([3, 3, 3, 5, 6, 4, 5, 5, 2, 5, 4, 4, 3, 7, 5, 4, 1, 4, 4, 6, 3, 5,\n",
       "       2, 5, 5, 4, 2, 3, 4, 4, 6, 2, 6, 2, 3, 5, 3, 5, 3, 4, 3, 5, 2, 3,\n",
       "       3, 3, 5, 3, 4, 3, 3, 3, 5, 4, 2, 2, 3, 7, 5, 3, 6, 4, 4, 4, 6, 7,\n",
       "       8, 1, 5, 4, 6, 1, 5, 4, 1, 4, 2, 2, 3, 4, 4, 5, 3, 4, 2, 5, 4, 4,\n",
       "       4, 3, 5, 6, 6, 5, 3, 4, 6, 4, 1, 5])"
      ]
     },
     "execution_count": 19,
     "metadata": {},
     "output_type": "execute_result"
    }
   ],
   "source": [
    "stats.binom(8, .5).rvs(100) # each value is the number of successes in each individaul trial"
   ]
  },
  {
   "cell_type": "code",
   "execution_count": 20,
   "metadata": {},
   "outputs": [
    {
     "data": {
      "text/plain": [
       "0.6367187499999999"
      ]
     },
     "execution_count": 20,
     "metadata": {},
     "output_type": "execute_result"
    }
   ],
   "source": [
    "stats.binom(8, .5).sf(3)"
   ]
  },
  {
   "cell_type": "markdown",
   "metadata": {},
   "source": [
    "### Food Truck example from simulation.py"
   ]
  },
  {
   "cell_type": "code",
   "execution_count": 21,
   "metadata": {},
   "outputs": [
    {
     "data": {
      "text/plain": [
       "0.027000000000000007"
      ]
     },
     "execution_count": 21,
     "metadata": {},
     "output_type": "execute_result"
    }
   ],
   "source": [
    "days = 3\n",
    "p_success = .7\n",
    "\n",
    "stats.binom(3, .7).pmf(0)"
   ]
  },
  {
   "cell_type": "code",
   "execution_count": 22,
   "metadata": {},
   "outputs": [
    {
     "data": {
      "text/plain": [
       "0.99757"
      ]
     },
     "execution_count": 22,
     "metadata": {},
     "output_type": "execute_result"
    }
   ],
   "source": [
    "days =5\n",
    "p_success = .7\n",
    "\n",
    "stats.binom(5, .7).sf(0)"
   ]
  },
  {
   "cell_type": "code",
   "execution_count": 24,
   "metadata": {},
   "outputs": [
    {
     "data": {
      "text/plain": [
       "array([3, 3, 3, 3, 3, 3, 2, 4, 0, 5, 4, 4, 4, 4, 3, 4, 2, 4, 3, 2, 3, 4,\n",
       "       5, 2, 4, 4, 1, 2, 4, 2, 3, 5, 5, 2, 4, 2, 3, 5, 3, 3, 3, 4, 3, 4,\n",
       "       1, 4, 5, 4, 3, 4, 4, 4])"
      ]
     },
     "execution_count": 24,
     "metadata": {},
     "output_type": "execute_result"
    }
   ],
   "source": [
    "days = 5\n",
    "p_success = .7\n",
    "weeks = 52\n",
    "\n",
    "stats.binom(5,.7).rvs(52) # each value is the number of success in a week"
   ]
  },
  {
   "cell_type": "markdown",
   "metadata": {},
   "source": [
    " Suppose there is a 5% chance that a Codeup student will show up lat to class. With a class of 20, what is the likelihood that everyone shows up on time?\n",
    " \n",
    "\"success\" is showing up late."
   ]
  },
  {
   "cell_type": "code",
   "execution_count": 26,
   "metadata": {},
   "outputs": [
    {
     "data": {
      "text/plain": [
       "0.3584859224085422"
      ]
     },
     "execution_count": 26,
     "metadata": {},
     "output_type": "execute_result"
    }
   ],
   "source": [
    "students = 20\n",
    "p_success = .05\n",
    "\n",
    "#P(0 success, i.e. nobody is late)\n",
    "\n",
    "stats.binom(20, .05).pmf(0)"
   ]
  },
  {
   "cell_type": "markdown",
   "metadata": {},
   "source": [
    "Suppose that a store's daily sales are normally distributed with a mean of 12,000 dollars and standard deviation of 2000 dollars. How much would the daily sales have to be to be in the top 10% of all days?"
   ]
  },
  {
   "cell_type": "code",
   "execution_count": 30,
   "metadata": {},
   "outputs": [
    {
     "data": {
      "text/plain": [
       "0.8413447460685429"
      ]
     },
     "execution_count": 30,
     "metadata": {},
     "output_type": "execute_result"
    }
   ],
   "source": [
    "# what's the likelihood we sell more than $10,000?\n",
    "mean = 12000\n",
    "std = 2000\n",
    "\n",
    "\n",
    "stats.norm(mean, std).sf(10000)"
   ]
  },
  {
   "cell_type": "code",
   "execution_count": 31,
   "metadata": {},
   "outputs": [
    {
     "data": {
      "text/plain": [
       "8710.292746097053"
      ]
     },
     "execution_count": 31,
     "metadata": {},
     "output_type": "execute_result"
    }
   ],
   "source": [
    "# What's the cutoff point that determines whether a day is in the bottom 5% of all sales?\n",
    "\n",
    "stats.norm(mean,std).ppf(.05)\n",
    "\n"
   ]
  },
  {
   "cell_type": "code",
   "execution_count": 33,
   "metadata": {},
   "outputs": [
    {
     "data": {
      "text/plain": [
       "14563.103131089201"
      ]
     },
     "execution_count": 33,
     "metadata": {},
     "output_type": "execute_result"
    }
   ],
   "source": [
    "stats.norm(mean,std).isf(.1)"
   ]
  },
  {
   "cell_type": "code",
   "execution_count": 34,
   "metadata": {},
   "outputs": [
    {
     "data": {
      "text/plain": [
       "14563.103131089201"
      ]
     },
     "execution_count": 34,
     "metadata": {},
     "output_type": "execute_result"
    }
   ],
   "source": [
    "stats.norm(mean,std).ppf(.9)"
   ]
  },
  {
   "cell_type": "markdown",
   "metadata": {},
   "source": [
    "Suppose the average Codeup admissons phone call is 15 minutes long with a standard deviation of 3."
   ]
  },
  {
   "cell_type": "code",
   "execution_count": 35,
   "metadata": {},
   "outputs": [
    {
     "data": {
      "text/plain": [
       "0.0477903522728147"
      ]
     },
     "execution_count": 35,
     "metadata": {},
     "output_type": "execute_result"
    }
   ],
   "source": [
    "#How likely is it that a phone call will go on for 20 minutes or longer.\n",
    "\n",
    "mean = 15\n",
    "std = 3\n",
    "\n",
    "stats.norm(15,3).sf(20)"
   ]
  },
  {
   "cell_type": "code",
   "execution_count": 36,
   "metadata": {},
   "outputs": [
    {
     "data": {
      "text/plain": [
       "0.047790352272814696"
      ]
     },
     "execution_count": 36,
     "metadata": {},
     "output_type": "execute_result"
    }
   ],
   "source": [
    "1 - stats.norm(15,3).cdf(20)"
   ]
  },
  {
   "cell_type": "code",
   "execution_count": 37,
   "metadata": {},
   "outputs": [
    {
     "data": {
      "text/plain": [
       "12.976530749411754"
      ]
     },
     "execution_count": 37,
     "metadata": {},
     "output_type": "execute_result"
    }
   ],
   "source": [
    "# how quick does a phone call finish if it is in the bottom 20% of all phone calls?\n",
    "stats.norm(mean,std).ppf(.25)"
   ]
  },
  {
   "cell_type": "markdown",
   "metadata": {},
   "source": [
    "# Poisson Distribution"
   ]
  },
  {
   "cell_type": "markdown",
   "metadata": {},
   "source": [
    "Let's us model a situation where a certian number of events happen over a specified time interval."
   ]
  },
  {
   "cell_type": "code",
   "execution_count": 38,
   "metadata": {},
   "outputs": [
    {
     "data": {
      "text/plain": [
       "5.10497804862988e-10"
      ]
     },
     "execution_count": 38,
     "metadata": {},
     "output_type": "execute_result"
    }
   ],
   "source": [
    "# 300 tacos/lunch\n",
    "\n",
    "tacos_per_lunch = 300\n",
    "\n",
    "\n",
    "# how likely is it we sell only 200 or fewer tacos\n",
    "stats.poisson(tacos_per_lunch).cdf(200)"
   ]
  },
  {
   "cell_type": "code",
   "execution_count": 39,
   "metadata": {},
   "outputs": [
    {
     "data": {
      "text/plain": [
       "322.0"
      ]
     },
     "execution_count": 39,
     "metadata": {},
     "output_type": "execute_result"
    }
   ],
   "source": [
    "#taco cutoff for top 10% of busiest lunches\n",
    "stats.poisson(300).isf(.1)"
   ]
  },
  {
   "cell_type": "code",
   "execution_count": 44,
   "metadata": {},
   "outputs": [
    {
     "data": {
      "text/plain": [
       "0.1403738958142805"
      ]
     },
     "execution_count": 44,
     "metadata": {},
     "output_type": "execute_result"
    }
   ],
   "source": [
    "# coffee pounds/ week = 5\n",
    "\n",
    "coffee_pounds_per_week = 5\n",
    "\n",
    "stats.poisson(coffee_pounds_per_week).pmf(3)"
   ]
  },
  {
   "cell_type": "code",
   "execution_count": 50,
   "metadata": {},
   "outputs": [],
   "source": [
    "µ = 10\n"
   ]
  },
  {
   "cell_type": "code",
   "execution_count": 53,
   "metadata": {},
   "outputs": [
    {
     "ename": "SyntaxError",
     "evalue": "unexpected character after line continuation character (<ipython-input-53-fa9d42e0d4f6>, line 1)",
     "output_type": "error",
     "traceback": [
      "\u001b[0;36m  File \u001b[0;32m\"<ipython-input-53-fa9d42e0d4f6>\"\u001b[0;36m, line \u001b[0;32m1\u001b[0m\n\u001b[0;31m    \\u03C3\u001b[0m\n\u001b[0m          ^\u001b[0m\n\u001b[0;31mSyntaxError\u001b[0m\u001b[0;31m:\u001b[0m unexpected character after line continuation character\n"
     ]
    }
   ],
   "source": [
    "\\u03C3"
   ]
  },
  {
   "cell_type": "code",
   "execution_count": null,
   "metadata": {},
   "outputs": [],
   "source": []
  }
 ],
 "metadata": {
  "kernelspec": {
   "display_name": "Python 3",
   "language": "python",
   "name": "python3"
  },
  "language_info": {
   "codemirror_mode": {
    "name": "ipython",
    "version": 3
   },
   "file_extension": ".py",
   "mimetype": "text/x-python",
   "name": "python",
   "nbconvert_exporter": "python",
   "pygments_lexer": "ipython3",
   "version": "3.7.3"
  }
 },
 "nbformat": 4,
 "nbformat_minor": 2
}
