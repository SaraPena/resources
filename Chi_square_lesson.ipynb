{
 "cells": [
  {
   "cell_type": "markdown",
   "metadata": {},
   "source": [
    "$H_0$: Membership in the group is independent\n",
    "\n",
    "$H_a$: Membership in the group is not independent"
   ]
  },
  {
   "cell_type": "markdown",
   "metadata": {},
   "source": [
    "Contingency table\n",
    "\n",
    "|     | Left | Right |\n",
    "|-----|------|-------|\n",
    "| dog | 45   | 455   |\n",
    "| cat | 55   | 445   |\n",
    "\n",
    "Chi_square test: Compares our values to what we would expect to see if our groups were independent\n",
    "\n",
    "Expected: \n",
    "\n",
    "|     | Left | Right |\n",
    "|-----|------|-------|\n",
    "| dog | 50   | 450   |\n",
    "| cat | 50   | 450   |\n",
    "\n",
    "\n",
    "$X^2$ = $(.5^2 + .5^2 + .5^2 +.5^2)/1000$ = .1\n",
    "p = .29\n",
    "\n",
    "Do not reject null Hypothesis\n",
    "\n",
    "Handedness is independent of preference of dog or cat.\n",
    "\n",
    "Handedness does not tell what type of animal they prefer.\n",
    "\n"
   ]
  },
  {
   "cell_type": "markdown",
   "metadata": {},
   "source": [
    "Example: MB coolness vs MB coolness\n",
    "\n",
    "|          | MB   | No MP |     |\n",
    "|----------|------|-------|-----|\n",
    "| cool     | 250   | 50   | 300\n",
    "| Not cool | 150   | 550  | 700\n",
    "|          | 400  | 600   | 1000"
   ]
  },
  {
   "cell_type": "markdown",
   "metadata": {},
   "source": [
    "Expected:\n",
    "\n",
    "|          | MB   | No MP |     |\n",
    "|----------|------|-------|-----|\n",
    "| cool     | 120   | 180   | 300\n",
    "| Not cool | 280   | 420   | 700\n",
    "|          | 400  | 600   | 1000"
   ]
  },
  {
   "cell_type": "markdown",
   "metadata": {},
   "source": [
    "$X^2$ = 335\n",
    "\n",
    "p = .00006\n",
    "\n",
    "$H_0$: Coolness is independent of OS Choice\n",
    "\n",
    "$H_a$: Coolness is not indepent of OS Choice\n",
    "\n",
    "Since p < alpha. Reject $H_0$: Coolness is independent of OS Choice"
   ]
  },
  {
   "cell_type": "code",
   "execution_count": 1,
   "metadata": {},
   "outputs": [],
   "source": [
    "import pandas as pd"
   ]
  },
  {
   "cell_type": "code",
   "execution_count": 11,
   "metadata": {},
   "outputs": [],
   "source": [
    "import scipy.stats as stats\n",
    "\n",
    "df = pd.read_csv('kickstarter.csv')\n",
    "df\n",
    "df = df[df.status.isin(['failed', 'successful'])]\n",
    "df\n",
    "df['success'] = df.status == 'successful'"
   ]
  },
  {
   "cell_type": "code",
   "execution_count": 12,
   "metadata": {},
   "outputs": [
    {
     "data": {
      "text/html": [
       "<div>\n",
       "<style scoped>\n",
       "    .dataframe tbody tr th:only-of-type {\n",
       "        vertical-align: middle;\n",
       "    }\n",
       "\n",
       "    .dataframe tbody tr th {\n",
       "        vertical-align: top;\n",
       "    }\n",
       "\n",
       "    .dataframe thead th {\n",
       "        text-align: right;\n",
       "    }\n",
       "</style>\n",
       "<table border=\"1\" class=\"dataframe\">\n",
       "  <thead>\n",
       "    <tr style=\"text-align: right;\">\n",
       "      <th>category</th>\n",
       "      <th>Art</th>\n",
       "      <th>Comics</th>\n",
       "      <th>Dance</th>\n",
       "      <th>Design</th>\n",
       "      <th>Fashion</th>\n",
       "      <th>Film &amp; Video</th>\n",
       "      <th>Film &amp;amp; Video</th>\n",
       "      <th>Food</th>\n",
       "      <th>Games</th>\n",
       "      <th>Music</th>\n",
       "      <th>Photography</th>\n",
       "      <th>Publishing</th>\n",
       "      <th>Technology</th>\n",
       "      <th>Theater</th>\n",
       "    </tr>\n",
       "    <tr>\n",
       "      <th>status</th>\n",
       "      <th></th>\n",
       "      <th></th>\n",
       "      <th></th>\n",
       "      <th></th>\n",
       "      <th></th>\n",
       "      <th></th>\n",
       "      <th></th>\n",
       "      <th></th>\n",
       "      <th></th>\n",
       "      <th></th>\n",
       "      <th></th>\n",
       "      <th></th>\n",
       "      <th></th>\n",
       "      <th></th>\n",
       "    </tr>\n",
       "  </thead>\n",
       "  <tbody>\n",
       "    <tr>\n",
       "      <th>failed</th>\n",
       "      <td>1585</td>\n",
       "      <td>448</td>\n",
       "      <td>180</td>\n",
       "      <td>837</td>\n",
       "      <td>684</td>\n",
       "      <td>210</td>\n",
       "      <td>5962</td>\n",
       "      <td>643</td>\n",
       "      <td>832</td>\n",
       "      <td>3261</td>\n",
       "      <td>742</td>\n",
       "      <td>2484</td>\n",
       "      <td>448</td>\n",
       "      <td>680</td>\n",
       "    </tr>\n",
       "    <tr>\n",
       "      <th>successful</th>\n",
       "      <td>2106</td>\n",
       "      <td>520</td>\n",
       "      <td>527</td>\n",
       "      <td>729</td>\n",
       "      <td>335</td>\n",
       "      <td>246</td>\n",
       "      <td>6177</td>\n",
       "      <td>655</td>\n",
       "      <td>635</td>\n",
       "      <td>6792</td>\n",
       "      <td>645</td>\n",
       "      <td>1671</td>\n",
       "      <td>289</td>\n",
       "      <td>1642</td>\n",
       "    </tr>\n",
       "  </tbody>\n",
       "</table>\n",
       "</div>"
      ],
      "text/plain": [
       "category     Art  Comics  Dance  Design  Fashion  Film & Video  \\\n",
       "status                                                           \n",
       "failed      1585     448    180     837      684           210   \n",
       "successful  2106     520    527     729      335           246   \n",
       "\n",
       "category    Film &amp; Video  Food  Games  Music  Photography  Publishing  \\\n",
       "status                                                                      \n",
       "failed                  5962   643    832   3261          742        2484   \n",
       "successful              6177   655    635   6792          645        1671   \n",
       "\n",
       "category    Technology  Theater  \n",
       "status                           \n",
       "failed             448      680  \n",
       "successful         289     1642  "
      ]
     },
     "execution_count": 12,
     "metadata": {},
     "output_type": "execute_result"
    }
   ],
   "source": [
    "pd.crosstab(df.status, df.category)"
   ]
  },
  {
   "cell_type": "code",
   "execution_count": 13,
   "metadata": {},
   "outputs": [
    {
     "data": {
      "text/plain": [
       "category\n",
       "Art                 0.570577\n",
       "Comics              0.537190\n",
       "Dance               0.745403\n",
       "Design              0.465517\n",
       "Fashion             0.328754\n",
       "Film & Video        0.539474\n",
       "Film &amp; Video    0.508856\n",
       "Food                0.504622\n",
       "Games               0.432856\n",
       "Music               0.675619\n",
       "Photography         0.465032\n",
       "Publishing          0.402166\n",
       "Technology          0.392130\n",
       "Theater             0.707149\n",
       "Name: success, dtype: float64"
      ]
     },
     "execution_count": 13,
     "metadata": {},
     "output_type": "execute_result"
    }
   ],
   "source": [
    "df.groupby('category').success.mean()"
   ]
  },
  {
   "cell_type": "code",
   "execution_count": null,
   "metadata": {},
   "outputs": [],
   "source": []
  }
 ],
 "metadata": {
  "kernelspec": {
   "display_name": "Python 3",
   "language": "python",
   "name": "python3"
  },
  "language_info": {
   "codemirror_mode": {
    "name": "ipython",
    "version": 3
   },
   "file_extension": ".py",
   "mimetype": "text/x-python",
   "name": "python",
   "nbconvert_exporter": "python",
   "pygments_lexer": "ipython3",
   "version": "3.7.3"
  }
 },
 "nbformat": 4,
 "nbformat_minor": 2
}
